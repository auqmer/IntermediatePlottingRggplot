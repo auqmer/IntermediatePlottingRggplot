{
  "cells": [
    {
      "cell_type": "raw",
      "metadata": {},
      "source": [
        "---\n",
        "title: 'Introduction to `ggplot2`: Diamonds'\n",
        "author: William Murrah\n",
        "format: html\n",
        "editor: visual\n",
        "bibliography: references.bib\n",
        "---"
      ]
    },
    {
      "cell_type": "markdown",
      "metadata": {},
      "source": [
        "## What is `ggplot2`?\n",
        "\n",
        "## What is the \"grammar of graphics\"?\n",
        "\n",
        "The grammar of graphics was created by @wilkinson2012grammar, plah, blah, blah"
      ]
    },
    {
      "cell_type": "code",
      "metadata": {},
      "source": [
        "library(ggplot2)\n",
        "data(\"diamonds\")\n",
        "ggplot(data = diamonds, aes(x = price, y = carat)) + geom_point()"
      ],
      "execution_count": null,
      "outputs": []
    }
  ],
  "metadata": {
    "kernelspec": {
      "name": "ir",
      "language": "R",
      "display_name": "R"
    }
  },
  "nbformat": 4,
  "nbformat_minor": 4
}